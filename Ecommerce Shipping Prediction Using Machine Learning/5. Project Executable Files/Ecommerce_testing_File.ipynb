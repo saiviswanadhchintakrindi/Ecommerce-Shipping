{
 "cells": [
  {
   "cell_type": "markdown",
   "id": "ff9bd4f7-4490-4c64-afe9-b96af9da2f1b",
   "metadata": {},
   "source": [
    "# Ecommerce Testing File"
   ]
  },
  {
   "cell_type": "markdown",
   "id": "fe242f92-ce66-406a-a282-ff4668ea2c60",
   "metadata": {},
   "source": [
    "## Predicting output for Random Forest\n",
    "\n",
    "##### chosen for high accuracy of approx 74"
   ]
  },
  {
   "cell_type": "code",
   "execution_count": 1,
   "id": "a931d5f2-d8fe-460c-a4e7-b287a9ed3be4",
   "metadata": {},
   "outputs": [],
   "source": [
    "import pickle\n",
    "import numpy as np\n",
    "import warnings\n",
    "warnings.filterwarnings('ignore')"
   ]
  },
  {
   "cell_type": "code",
   "execution_count": 2,
   "id": "2b722db7-b366-4848-8379-39523b836477",
   "metadata": {},
   "outputs": [],
   "source": [
    "# Loading the model\n",
    "\n",
    "model = pickle.load(open('Ecommerce_RF_74.h5', 'rb'))\n",
    "scaler = pickle.load(open(\"EcommerceScaler.pkl\",\"rb\"))"
   ]
  },
  {
   "cell_type": "code",
   "execution_count": 3,
   "id": "c8ef97a9-f790-4ad5-bd55-47efd85e9f89",
   "metadata": {},
   "outputs": [
    {
     "data": {
      "text/plain": [
       "array([1], dtype=int64)"
      ]
     },
     "execution_count": 3,
     "metadata": {},
     "output_type": "execute_result"
    }
   ],
   "source": [
    "model.predict(scaler.transform([[1,0,4,4,200,2,3,1,12.22,2333]]))"
   ]
  },
  {
   "cell_type": "code",
   "execution_count": 4,
   "id": "5b1f3c7d-0725-413e-88c3-02a41dffbd80",
   "metadata": {},
   "outputs": [
    {
     "data": {
      "text/plain": [
       "array([0], dtype=int64)"
      ]
     },
     "execution_count": 4,
     "metadata": {},
     "output_type": "execute_result"
    }
   ],
   "source": [
    "model.predict(scaler.transform([[3,2,3,3,203,2,1,1,9,5733]]))"
   ]
  },
  {
   "cell_type": "code",
   "execution_count": null,
   "id": "e7f8ca72-ea57-4b06-990b-f2c9a4546eb4",
   "metadata": {},
   "outputs": [],
   "source": []
  }
 ],
 "metadata": {
  "kernelspec": {
   "display_name": "Python 3 (ipykernel)",
   "language": "python",
   "name": "python3"
  },
  "language_info": {
   "codemirror_mode": {
    "name": "ipython",
    "version": 3
   },
   "file_extension": ".py",
   "mimetype": "text/x-python",
   "name": "python",
   "nbconvert_exporter": "python",
   "pygments_lexer": "ipython3",
   "version": "3.11.7"
  }
 },
 "nbformat": 4,
 "nbformat_minor": 5
}
